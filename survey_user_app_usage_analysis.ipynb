{
 "cells": [
  {
   "cell_type": "code",
   "execution_count": 39,
   "id": "0b269122",
   "metadata": {},
   "outputs": [],
   "source": [
    "import numpy as np\n",
    "import pandas as pd\n",
    "import matplotlib.pyplot as plt\n",
    "import matplotlib.dates as mdates\n",
    "from sklearn.preprocessing import LabelEncoder"
   ]
  },
  {
   "cell_type": "code",
   "execution_count": 53,
   "id": "e45cf071",
   "metadata": {},
   "outputs": [],
   "source": [
    "df = pd.read_csv('/Applications/Gursimran/Projects/duolingo/survey_users_app_usage.csv')"
   ]
  },
  {
   "cell_type": "code",
   "execution_count": 54,
   "id": "5e148c8f",
   "metadata": {},
   "outputs": [
    {
     "data": {
      "text/html": [
       "<div>\n",
       "<style scoped>\n",
       "    .dataframe tbody tr th:only-of-type {\n",
       "        vertical-align: middle;\n",
       "    }\n",
       "\n",
       "    .dataframe tbody tr th {\n",
       "        vertical-align: top;\n",
       "    }\n",
       "\n",
       "    .dataframe thead th {\n",
       "        text-align: right;\n",
       "    }\n",
       "</style>\n",
       "<table border=\"1\" class=\"dataframe\">\n",
       "  <thead>\n",
       "    <tr style=\"text-align: right;\">\n",
       "      <th></th>\n",
       "      <th>user_id</th>\n",
       "      <th>duolingo_start_date</th>\n",
       "      <th>daily_goal</th>\n",
       "      <th>highest_course_progress</th>\n",
       "      <th>took_placement_test</th>\n",
       "      <th>purchased_subscription</th>\n",
       "      <th>highest_crown_count</th>\n",
       "      <th>n_active_days</th>\n",
       "      <th>n_lessons_started</th>\n",
       "      <th>n_lessons_completed</th>\n",
       "      <th>longest_streak</th>\n",
       "      <th>n_days_on_platform</th>\n",
       "      <th>Unnamed: 12</th>\n",
       "    </tr>\n",
       "  </thead>\n",
       "  <tbody>\n",
       "    <tr>\n",
       "      <th>0</th>\n",
       "      <td>35cb7e8f72c911e9888edca9049399ef</td>\n",
       "      <td>1/10/22 21:14</td>\n",
       "      <td>NaN</td>\n",
       "      <td>46.0</td>\n",
       "      <td>True</td>\n",
       "      <td>False</td>\n",
       "      <td>277.0</td>\n",
       "      <td>88</td>\n",
       "      <td>741.0</td>\n",
       "      <td>668.0</td>\n",
       "      <td>135</td>\n",
       "      <td>137</td>\n",
       "      <td>NaN</td>\n",
       "    </tr>\n",
       "    <tr>\n",
       "      <th>1</th>\n",
       "      <td>35ca34fd72c911e99ed6dca9049399ef</td>\n",
       "      <td>2/28/21 5:01</td>\n",
       "      <td>NaN</td>\n",
       "      <td>50.0</td>\n",
       "      <td>True</td>\n",
       "      <td>False</td>\n",
       "      <td>62.0</td>\n",
       "      <td>16</td>\n",
       "      <td>57.0</td>\n",
       "      <td>57.0</td>\n",
       "      <td>6</td>\n",
       "      <td>453</td>\n",
       "      <td>NaN</td>\n",
       "    </tr>\n",
       "    <tr>\n",
       "      <th>2</th>\n",
       "      <td>35d1a54a72c911e98e25dca9049399ef</td>\n",
       "      <td>5/7/18 17:55</td>\n",
       "      <td>1.0</td>\n",
       "      <td>71.0</td>\n",
       "      <td>False</td>\n",
       "      <td>False</td>\n",
       "      <td>202.0</td>\n",
       "      <td>29</td>\n",
       "      <td>315.0</td>\n",
       "      <td>295.0</td>\n",
       "      <td>55</td>\n",
       "      <td>1481</td>\n",
       "      <td>NaN</td>\n",
       "    </tr>\n",
       "    <tr>\n",
       "      <th>3</th>\n",
       "      <td>35d4beb072c911e9aa92dca9049399ef</td>\n",
       "      <td>4/27/22 9:28</td>\n",
       "      <td>NaN</td>\n",
       "      <td>2.0</td>\n",
       "      <td>False</td>\n",
       "      <td>False</td>\n",
       "      <td>2.0</td>\n",
       "      <td>3</td>\n",
       "      <td>6.0</td>\n",
       "      <td>5.0</td>\n",
       "      <td>1</td>\n",
       "      <td>30</td>\n",
       "      <td>NaN</td>\n",
       "    </tr>\n",
       "    <tr>\n",
       "      <th>4</th>\n",
       "      <td>35ccf4bd72c911e9be2edca9049399ef</td>\n",
       "      <td>4/9/19 3:16</td>\n",
       "      <td>NaN</td>\n",
       "      <td>34.0</td>\n",
       "      <td>False</td>\n",
       "      <td>False</td>\n",
       "      <td>216.0</td>\n",
       "      <td>57</td>\n",
       "      <td>338.0</td>\n",
       "      <td>297.0</td>\n",
       "      <td>56</td>\n",
       "      <td>1144</td>\n",
       "      <td>NaN</td>\n",
       "    </tr>\n",
       "  </tbody>\n",
       "</table>\n",
       "</div>"
      ],
      "text/plain": [
       "                            user_id duolingo_start_date  daily_goal  \\\n",
       "0  35cb7e8f72c911e9888edca9049399ef       1/10/22 21:14         NaN   \n",
       "1  35ca34fd72c911e99ed6dca9049399ef        2/28/21 5:01         NaN   \n",
       "2  35d1a54a72c911e98e25dca9049399ef        5/7/18 17:55         1.0   \n",
       "3  35d4beb072c911e9aa92dca9049399ef        4/27/22 9:28         NaN   \n",
       "4  35ccf4bd72c911e9be2edca9049399ef         4/9/19 3:16         NaN   \n",
       "\n",
       "   highest_course_progress took_placement_test  purchased_subscription  \\\n",
       "0                     46.0                True                   False   \n",
       "1                     50.0                True                   False   \n",
       "2                     71.0               False                   False   \n",
       "3                      2.0               False                   False   \n",
       "4                     34.0               False                   False   \n",
       "\n",
       "   highest_crown_count  n_active_days  n_lessons_started  n_lessons_completed  \\\n",
       "0                277.0             88              741.0                668.0   \n",
       "1                 62.0             16               57.0                 57.0   \n",
       "2                202.0             29              315.0                295.0   \n",
       "3                  2.0              3                6.0                  5.0   \n",
       "4                216.0             57              338.0                297.0   \n",
       "\n",
       "   longest_streak  n_days_on_platform  Unnamed: 12  \n",
       "0             135                 137          NaN  \n",
       "1               6                 453          NaN  \n",
       "2              55                1481          NaN  \n",
       "3               1                  30          NaN  \n",
       "4              56                1144          NaN  "
      ]
     },
     "execution_count": 54,
     "metadata": {},
     "output_type": "execute_result"
    }
   ],
   "source": [
    "df.head()"
   ]
  },
  {
   "cell_type": "code",
   "execution_count": 42,
   "id": "4e745355",
   "metadata": {},
   "outputs": [
    {
     "data": {
      "text/plain": [
       "(6149, 13)"
      ]
     },
     "execution_count": 42,
     "metadata": {},
     "output_type": "execute_result"
    }
   ],
   "source": [
    "df.shape"
   ]
  },
  {
   "cell_type": "code",
   "execution_count": 43,
   "id": "7247f551",
   "metadata": {
    "scrolled": true
   },
   "outputs": [
    {
     "data": {
      "text/plain": [
       "duolingo_start_date\n",
       "1/4/22 21:34     2\n",
       "8/12/20 23:33    2\n",
       "1/12/20 18:17    2\n",
       "5/24/22 16:08    2\n",
       "5/24/22 6:31     2\n",
       "                ..\n",
       "5/11/22 11:30    1\n",
       "9/24/20 6:57     1\n",
       "3/28/22 3:06     1\n",
       "4/28/22 4:36     1\n",
       "5/22/21 7:17     1\n",
       "Name: count, Length: 6126, dtype: int64"
      ]
     },
     "execution_count": 43,
     "metadata": {},
     "output_type": "execute_result"
    }
   ],
   "source": [
    "df['duolingo_start_date'].value_counts()"
   ]
  },
  {
   "cell_type": "code",
   "execution_count": 55,
   "id": "933de850",
   "metadata": {},
   "outputs": [
    {
     "name": "stdout",
     "output_type": "stream",
     "text": [
      "                               user_id duolingo_start_date  daily_goal  \\\n",
      "2818  35d349e172c911e98027dca9049399ef 2015-10-29 01:11:00         NaN   \n",
      "5235  35cf9a5c72c911e9a30bdca9049399ef 2015-10-31 14:03:00        50.0   \n",
      "3211  35cebcfd72c911e9ab23dca9049399ef 2015-11-11 08:06:00         NaN   \n",
      "1381  35cf13f372c911e98d09dca9049399ef 2015-11-18 11:02:00         NaN   \n",
      "5918  35d58cf072c911e9a374dca9049399ef 2015-11-19 11:43:00         NaN   \n",
      "...                                ...                 ...         ...   \n",
      "2630  35d4f26672c911e9aca2dca9049399ef 2022-05-25 01:49:00         NaN   \n",
      "1565  35cb1e4f72c911e9b2e9dca9049399ef 2022-05-25 01:57:00         NaN   \n",
      "5239  35d47eb372c911e9bbdbdca9049399ef 2022-05-25 02:11:00         NaN   \n",
      "4298  35d1dfd772c911e9b623dca9049399ef 2022-05-25 02:21:00         NaN   \n",
      "1650  35cb3e4572c911e992a2dca9049399ef 2022-05-25 02:56:00        20.0   \n",
      "\n",
      "      highest_course_progress took_placement_test  purchased_subscription  \\\n",
      "2818                     36.0                True                    True   \n",
      "5235                     64.0               False                    True   \n",
      "3211                     27.0               False                    True   \n",
      "1381                     31.0                True                    True   \n",
      "5918                     54.0               False                   False   \n",
      "...                       ...                 ...                     ...   \n",
      "2630                      2.0               False                   False   \n",
      "1565                     21.0                True                   False   \n",
      "5239                     23.0               False                   False   \n",
      "4298                      4.0               False                   False   \n",
      "1650                      3.0               False                    True   \n",
      "\n",
      "      highest_crown_count  n_active_days  n_lessons_started  \\\n",
      "2818                130.0             20               50.0   \n",
      "5235                210.0             89              296.0   \n",
      "3211                101.0             94               99.0   \n",
      "1381                 80.0             37              138.0   \n",
      "5918                134.0            248              400.0   \n",
      "...                   ...            ...                ...   \n",
      "2630                  3.0              2               22.0   \n",
      "1565                 38.0              3               25.0   \n",
      "5239                 38.0              3               32.0   \n",
      "4298                 13.0              3               59.0   \n",
      "1650                  6.0              3               31.0   \n",
      "\n",
      "      n_lessons_completed  longest_streak  n_days_on_platform  Unnamed: 12  \\\n",
      "2818                 42.0               2                2402          NaN   \n",
      "5235                292.0             246                2400          NaN   \n",
      "3211                 93.0             421                2389          NaN   \n",
      "1381                133.0              35                2382          NaN   \n",
      "5918                329.0              15                2381          NaN   \n",
      "...                   ...             ...                 ...          ...   \n",
      "2630                 21.0               2                   2          NaN   \n",
      "1565                 25.0               3                   2          NaN   \n",
      "5239                 30.0               2                   2          NaN   \n",
      "4298                 55.0               3                   2          NaN   \n",
      "1650                 31.0               4                   2          NaN   \n",
      "\n",
      "      duolingo_start_date_encoded  \n",
      "2818                            0  \n",
      "5235                            1  \n",
      "3211                            2  \n",
      "1381                            3  \n",
      "5918                            4  \n",
      "...                           ...  \n",
      "2630                         6144  \n",
      "1565                         6145  \n",
      "5239                         6146  \n",
      "4298                         6147  \n",
      "1650                         6148  \n",
      "\n",
      "[6149 rows x 14 columns]\n"
     ]
    },
    {
     "name": "stderr",
     "output_type": "stream",
     "text": [
      "/var/folders/51/gj2tp9pn4klb16gg85jd62zc0000gn/T/ipykernel_2073/2556148805.py:2: UserWarning: Could not infer format, so each element will be parsed individually, falling back to `dateutil`. To ensure parsing is consistent and as-expected, please specify a format.\n",
      "  df['duolingo_start_date'] = pd.to_datetime(df['duolingo_start_date'])\n"
     ]
    }
   ],
   "source": [
    "# Convert 'duolingo_start_date' to datetime\n",
    "df['duolingo_start_date'] = pd.to_datetime(df['duolingo_start_date'])\n",
    "\n",
    "# Sort the DataFrame by 'duolingo_start_date'\n",
    "df.sort_values(by='duolingo_start_date', inplace=True)\n",
    "\n",
    "# Encode the 'duolingo_start_date' column based on the order\n",
    "df['duolingo_start_date_encoded'] = range(len(df))\n",
    "\n",
    "# Display the DataFrame with encoded column\n",
    "print(df)"
   ]
  },
  {
   "cell_type": "code",
   "execution_count": 45,
   "id": "e862f9fe",
   "metadata": {},
   "outputs": [
    {
     "data": {
      "text/plain": [
       "2818   2015-10-29 01:11:00\n",
       "5235   2015-10-31 14:03:00\n",
       "3211   2015-11-11 08:06:00\n",
       "1381   2015-11-18 11:02:00\n",
       "5918   2015-11-19 11:43:00\n",
       "               ...        \n",
       "2630   2022-05-25 01:49:00\n",
       "1565   2022-05-25 01:57:00\n",
       "5239   2022-05-25 02:11:00\n",
       "4298   2022-05-25 02:21:00\n",
       "1650   2022-05-25 02:56:00\n",
       "Name: duolingo_start_date, Length: 6149, dtype: datetime64[ns]"
      ]
     },
     "execution_count": 45,
     "metadata": {},
     "output_type": "execute_result"
    }
   ],
   "source": [
    "df['duolingo_start_date']"
   ]
  },
  {
   "cell_type": "code",
   "execution_count": 46,
   "id": "3c27167d",
   "metadata": {},
   "outputs": [
    {
     "data": {
      "image/png": "[encoded data removed]",
      "text/plain": [
       "<Figure size 1000x600 with 1 Axes>"
      ]
     },
     "metadata": {},
     "output_type": "display_data"
    }
   ],
   "source": [
    "# Extract month and year from 'duolingo_start_date'\n",
    "df['month'] = df['duolingo_start_date'].dt.month\n",
    "df['year'] = df['duolingo_start_date'].dt.year\n",
    "\n",
    "# Plot histogram of Duolingo start dates by month\n",
    "plt.figure(figsize=(10, 6))\n",
    "plt.hist(df['duolingo_start_date'], bins=12, color='skyblue', edgecolor='black', alpha=0.7)\n",
    "plt.title('Distribution of Duolingo Start Dates by Month')\n",
    "plt.xlabel('Date')\n",
    "plt.ylabel('Frequency')\n",
    "plt.gca().xaxis.set_major_formatter(mdates.DateFormatter(\"%b '%y\"))  # Format x-axis labels as month and year\n",
    "plt.xticks(rotation=45)\n",
    "plt.grid(axis='y', linestyle='--', alpha=0.7)\n",
    "plt.tight_layout()\n",
    "plt.show()"
   ]
  },
  {
   "cell_type": "code",
   "execution_count": 47,
   "id": "97e890fd",
   "metadata": {},
   "outputs": [
    {
     "data": {
      "text/plain": [
       "daily_goal\n",
       "20.0    1046\n",
       "30.0     584\n",
       "50.0     523\n",
       "10.0     476\n",
       "1.0       55\n",
       "16.0       2\n",
       "32.0       1\n",
       "Name: count, dtype: int64"
      ]
     },
     "execution_count": 47,
     "metadata": {},
     "output_type": "execute_result"
    }
   ],
   "source": [
    "df['daily_goal'].value_counts()"
   ]
  },
  {
   "cell_type": "code",
   "execution_count": 48,
   "id": "0d93ef23",
   "metadata": {},
   "outputs": [
    {
     "data": {
      "image/png": "[encoded data removed]",
      "text/plain": [
       "<Figure size 1000x600 with 1 Axes>"
      ]
     },
     "metadata": {},
     "output_type": "display_data"
    },
    {
     "data": {
      "image/png": "[encoded data removed]",
      "text/plain": [
       "<Figure size 1000x600 with 1 Axes>"
      ]
     },
     "metadata": {},
     "output_type": "display_data"
    }
   ],
   "source": [
    "# Binning\n",
    "bins = [0, 10, 20, 30, 40, 50, float('inf')]  # Define bin edges\n",
    "labels = ['0-10', '11-20', '21-30', '31-40', '41-50', '51+']  # Define bin labels\n",
    "df['daily_goal_binned'] = pd.cut(df['daily_goal'], bins=bins, labels=labels)\n",
    "\n",
    "# Plot histogram of binned daily goals\n",
    "plt.figure(figsize=(10, 6))\n",
    "df['daily_goal_binned'].value_counts().sort_index().plot(kind='bar', color='skyblue', edgecolor='black', alpha=0.7)\n",
    "plt.title('Distribution of Binned Daily Goals')\n",
    "plt.xlabel('Daily Goal Range')\n",
    "plt.ylabel('Frequency')\n",
    "plt.xticks(rotation=45)\n",
    "plt.grid(axis='y', linestyle='--', alpha=0.7)\n",
    "plt.show()\n",
    "\n",
    "# Scaling (Min-Max Scaling)\n",
    "df['daily_goal_scaled'] = (df['daily_goal'] - df['daily_goal'].min()) / (df['daily_goal'].max() - df['daily_goal'].min())\n",
    "\n",
    "# Plot histogram of scaled daily goals\n",
    "plt.figure(figsize=(10, 6))\n",
    "plt.hist(df['daily_goal_scaled'], bins=10, color='skyblue', edgecolor='black', alpha=0.7)\n",
    "plt.title('Distribution of Scaled Daily Goals')\n",
    "plt.xlabel('Scaled Daily Goal')\n",
    "plt.ylabel('Frequency')\n",
    "plt.grid(axis='y', linestyle='--', alpha=0.7)\n",
    "plt.show()"
   ]
  },
  {
   "cell_type": "code",
   "execution_count": 49,
   "id": "2598178a",
   "metadata": {},
   "outputs": [
    {
     "data": {
      "text/plain": [
       "took_placement_test\n",
       "False    3527\n",
       "True     2608\n",
       "Name: count, dtype: int64"
      ]
     },
     "execution_count": 49,
     "metadata": {},
     "output_type": "execute_result"
    }
   ],
   "source": [
    "df['took_placement_test'].value_counts()"
   ]
  },
  {
   "cell_type": "code",
   "execution_count": 59,
   "id": "f69c0058",
   "metadata": {},
   "outputs": [
    {
     "name": "stdout",
     "output_type": "stream",
     "text": [
      "Labels for each category in the 'took_placement_test' column:\n",
      "Encoded value 0: 0\n",
      "Encoded value 1: 1\n",
      "Encoded value 2: 2\n",
      "\n",
      "Labels for each category in the 'purchased_subscription' column:\n",
      "Encoded value 0: False\n",
      "Encoded value 1: True\n"
     ]
    }
   ],
   "source": [
    "# Initialize LabelEncoders\n",
    "label_encoder_placement_test = LabelEncoder()\n",
    "label_encoder_subscription = LabelEncoder()\n",
    "\n",
    "# Fit and transform the 'took_placement_test' column and assign it to a new column\n",
    "df['took_placement_test_encoded'] = label_encoder_placement_test.fit_transform(df['took_placement_test'])\n",
    "\n",
    "# Fit and transform the 'purchased_subscription' column and assign it to a new column\n",
    "df['purchased_subscription_encoded'] = label_encoder_subscription.fit_transform(df['purchased_subscription'])\n",
    "\n",
    "# Get the labels for each category in took_placement_test\n",
    "placement_test_labels = label_encoder_placement_test.classes_\n",
    "\n",
    "# Display the labels for took_placement_test\n",
    "print(\"Labels for each category in the 'took_placement_test' column:\")\n",
    "for encoded_value, label in enumerate(placement_test_labels):\n",
    "    print(f\"Encoded value {encoded_value}: {label}\")\n",
    "\n",
    "# Get the labels for each category in purchased_subscription\n",
    "subscription_labels = label_encoder_subscription.classes_\n",
    "\n",
    "# Display the labels for purchased_subscription\n",
    "print(\"\\nLabels for each category in the 'purchased_subscription' column:\")\n",
    "for encoded_value, label in enumerate(subscription_labels):\n",
    "    print(f\"Encoded value {encoded_value}: {label}\")\n",
    "\n",
    "# Replace the original columns with the encoded values\n",
    "df.drop(columns=['took_placement_test', 'purchased_subscription'], inplace=True)\n",
    "df.rename(columns={'took_placement_test_encoded': 'took_placement_test', \n",
    "                   'purchased_subscription_encoded': 'purchased_subscription'}, inplace=True)\n"
   ]
  },
  {
   "cell_type": "code",
   "execution_count": 60,
   "id": "945ce550",
   "metadata": {},
   "outputs": [
    {
     "name": "stdout",
     "output_type": "stream",
     "text": [
      "\n",
      "Updated DataFrame:\n",
      "                               user_id duolingo_start_date  daily_goal  \\\n",
      "2818  35d349e172c911e98027dca9049399ef 2015-10-29 01:11:00         NaN   \n",
      "5235  35cf9a5c72c911e9a30bdca9049399ef 2015-10-31 14:03:00        50.0   \n",
      "3211  35cebcfd72c911e9ab23dca9049399ef 2015-11-11 08:06:00         NaN   \n",
      "1381  35cf13f372c911e98d09dca9049399ef 2015-11-18 11:02:00         NaN   \n",
      "5918  35d58cf072c911e9a374dca9049399ef 2015-11-19 11:43:00         NaN   \n",
      "\n",
      "      highest_course_progress  highest_crown_count  n_active_days  \\\n",
      "2818                     36.0                130.0             20   \n",
      "5235                     64.0                210.0             89   \n",
      "3211                     27.0                101.0             94   \n",
      "1381                     31.0                 80.0             37   \n",
      "5918                     54.0                134.0            248   \n",
      "\n",
      "      n_lessons_started  n_lessons_completed  longest_streak  \\\n",
      "2818               50.0                 42.0               2   \n",
      "5235              296.0                292.0             246   \n",
      "3211               99.0                 93.0             421   \n",
      "1381              138.0                133.0              35   \n",
      "5918              400.0                329.0              15   \n",
      "\n",
      "      n_days_on_platform  Unnamed: 12  duolingo_start_date_encoded  \\\n",
      "2818                2402          NaN                            0   \n",
      "5235                2400          NaN                            1   \n",
      "3211                2389          NaN                            2   \n",
      "1381                2382          NaN                            3   \n",
      "5918                2381          NaN                            4   \n",
      "\n",
      "      took_placement_test  purchased_subscription  \n",
      "2818                    1                       1  \n",
      "5235                    0                       1  \n",
      "3211                    0                       1  \n",
      "1381                    1                       1  \n",
      "5918                    0                       0  \n"
     ]
    }
   ],
   "source": [
    "\n",
    "# Display the updated DataFrame\n",
    "print(\"\\nUpdated DataFrame:\")\n",
    "print(df.head())\n"
   ]
  },
  {
   "cell_type": "code",
   "execution_count": 61,
   "id": "4b0c7c98",
   "metadata": {
    "scrolled": false
   },
   "outputs": [
    {
     "data": {
      "text/plain": [
       "Series([], Name: count, dtype: int64)"
      ]
     },
     "execution_count": 61,
     "metadata": {},
     "output_type": "execute_result"
    }
   ],
   "source": [
    "df['Unnamed: 12'].value_counts()"
   ]
  },
  {
   "cell_type": "code",
   "execution_count": 62,
   "id": "f6520869",
   "metadata": {},
   "outputs": [
    {
     "data": {
      "text/plain": [
       "highest_course_progress\n",
       "31.0    427\n",
       "64.0    290\n",
       "34.0    227\n",
       "2.0     211\n",
       "32.0    209\n",
       "       ... \n",
       "80.0      3\n",
       "73.0      2\n",
       "82.0      1\n",
       "81.0      1\n",
       "78.0      1\n",
       "Name: count, Length: 91, dtype: int64"
      ]
     },
     "execution_count": 62,
     "metadata": {},
     "output_type": "execute_result"
    }
   ],
   "source": [
    "df['highest_course_progress'].value_counts()"
   ]
  },
  {
   "cell_type": "code",
   "execution_count": null,
   "id": "d241fef2",
   "metadata": {},
   "outputs": [],
   "source": []
  },
  {
   "cell_type": "code",
   "execution_count": null,
   "id": "1dfa6918",
   "metadata": {},
   "outputs": [],
   "source": []
  },
  {
   "cell_type": "code",
   "execution_count": null,
   "id": "99c8a0c8",
   "metadata": {},
   "outputs": [],
   "source": []
  },
  {
   "cell_type": "code",
   "execution_count": null,
   "id": "ea8d005a",
   "metadata": {},
   "outputs": [],
   "source": [
    "df['other_resources'].value_counts()"
   ]
  },
  {
   "cell_type": "code",
   "execution_count": null,
   "id": "2f00b73c",
   "metadata": {},
   "outputs": [],
   "source": []
  },
  {
   "cell_type": "code",
   "execution_count": null,
   "id": "f64edc9d",
   "metadata": {},
   "outputs": [],
   "source": []
  },
  {
   "cell_type": "code",
   "execution_count": null,
   "id": "1fd077c9",
   "metadata": {},
   "outputs": [],
   "source": []
  },
  {
   "cell_type": "code",
   "execution_count": null,
   "id": "27317924",
   "metadata": {},
   "outputs": [],
   "source": []
  },
  {
   "cell_type": "code",
   "execution_count": null,
   "id": "75d809a6",
   "metadata": {},
   "outputs": [],
   "source": []
  },
  {
   "cell_type": "code",
   "execution_count": null,
   "id": "70d6de92",
   "metadata": {},
   "outputs": [],
   "source": []
  },
  {
   "cell_type": "code",
   "execution_count": null,
   "id": "cb5e05a2",
   "metadata": {},
   "outputs": [],
   "source": []
  },
  {
   "cell_type": "code",
   "execution_count": null,
   "id": "8d8d9223",
   "metadata": {},
   "outputs": [],
   "source": []
  },
  {
   "cell_type": "code",
   "execution_count": null,
   "id": "abb3a44b",
   "metadata": {},
   "outputs": [],
   "source": []
  },
  {
   "cell_type": "code",
   "execution_count": null,
   "id": "6dc03d8a",
   "metadata": {},
   "outputs": [],
   "source": []
  },
  {
   "cell_type": "code",
   "execution_count": null,
   "id": "b1a3d39f",
   "metadata": {},
   "outputs": [],
   "source": []
  },
  {
   "cell_type": "code",
   "execution_count": null,
   "id": "34f5d355",
   "metadata": {},
   "outputs": [],
   "source": []
  },
  {
   "cell_type": "code",
   "execution_count": null,
   "id": "f87305ce",
   "metadata": {},
   "outputs": [],
   "source": []
  }
 ],
 "metadata": {
  "kernelspec": {
   "display_name": "Python 3 (ipykernel)",
   "language": "python",
   "name": "python3"
  },
  "language_info": {
   "codemirror_mode": {
    "name": "ipython",
    "version": 3
   },
   "file_extension": ".py",
   "mimetype": "text/x-python",
   "name": "python",
   "nbconvert_exporter": "python",
   "pygments_lexer": "ipython3",
   "version": "3.11.5"
  }
 },
 "nbformat": 4,
 "nbformat_minor": 5
}
